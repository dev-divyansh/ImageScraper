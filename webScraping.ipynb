{
  "nbformat": 4,
  "nbformat_minor": 0,
  "metadata": {
    "colab": {
      "provenance": []
    },
    "kernelspec": {
      "name": "python3",
      "display_name": "Python 3"
    },
    "language_info": {
      "name": "python"
    }
  },
  "cells": [
    {
      "cell_type": "markdown",
      "source": [
        "# **Image Scraping** :\n",
        "\n",
        "**Library used :**  BeautifulSoup , Requests\n",
        "\n",
        "\n",
        "\n",
        "\n",
        "---\n",
        "**INPUTS & USEAGE** \n",
        "\n",
        "<br/>\n",
        "\n",
        "**URL :** enter the URL from  which images are to be downloaded\n",
        "<br/>\n",
        "**PATH :** enter the path which is basically the url after the base url\n",
        "\n",
        "EX.  https: //example.com/data/index.html\n",
        "\n",
        "URl = \"https: //example.com\"\n",
        "PATH =  / data/index.html\n"
      ],
      "metadata": {
        "id": "ToPbNG80uotZ"
      }
    },
    {
      "cell_type": "markdown",
      "source": [
        "Installing  requests and beautifulSoup4  library"
      ],
      "metadata": {
        "id": "oDiPjFwCvwbZ"
      }
    },
    {
      "cell_type": "code",
      "source": [
        "pip  install requests"
      ],
      "metadata": {
        "colab": {
          "base_uri": "https://localhost:8080/"
        },
        "id": "7bsQWBh7umqs",
        "outputId": "4bf0f03a-1daa-4486-ff55-b3151a833b4a"
      },
      "execution_count": null,
      "outputs": [
        {
          "output_type": "stream",
          "name": "stdout",
          "text": [
            "Looking in indexes: https://pypi.org/simple, https://us-python.pkg.dev/colab-wheels/public/simple/\n",
            "Requirement already satisfied: requests in /usr/local/lib/python3.10/dist-packages (2.27.1)\n",
            "Requirement already satisfied: urllib3<1.27,>=1.21.1 in /usr/local/lib/python3.10/dist-packages (from requests) (1.26.15)\n",
            "Requirement already satisfied: certifi>=2017.4.17 in /usr/local/lib/python3.10/dist-packages (from requests) (2022.12.7)\n",
            "Requirement already satisfied: charset-normalizer~=2.0.0 in /usr/local/lib/python3.10/dist-packages (from requests) (2.0.12)\n",
            "Requirement already satisfied: idna<4,>=2.5 in /usr/local/lib/python3.10/dist-packages (from requests) (3.4)\n"
          ]
        }
      ]
    },
    {
      "cell_type": "code",
      "source": [
        "pip  install  beautifulSoup4"
      ],
      "metadata": {
        "colab": {
          "base_uri": "https://localhost:8080/"
        },
        "id": "Na5Z-nbDwp0m",
        "outputId": "8e1ea6c9-ab21-4f9e-924a-5a9ea7e686b4"
      },
      "execution_count": null,
      "outputs": [
        {
          "output_type": "stream",
          "name": "stdout",
          "text": [
            "Looking in indexes: https://pypi.org/simple, https://us-python.pkg.dev/colab-wheels/public/simple/\n",
            "Requirement already satisfied: beautifulSoup4 in /usr/local/lib/python3.10/dist-packages (4.11.2)\n",
            "Requirement already satisfied: soupsieve>1.2 in /usr/local/lib/python3.10/dist-packages (from beautifulSoup4) (2.4.1)\n"
          ]
        }
      ]
    },
    {
      "cell_type": "markdown",
      "source": [
        "Importing beautifulSoup and requests"
      ],
      "metadata": {
        "id": "a-ennH0ZxB94"
      }
    },
    {
      "cell_type": "code",
      "source": [
        "#importing  libraries\n",
        "\n",
        "import requests\n",
        "from bs4 import  BeautifulSoup as bs\n",
        "\n",
        "# declaring a  list  to store the images\n",
        "\n",
        "resultImages = []\n",
        "\n",
        "#  replace your url ( remember  this should be a  base url like : \"www.example.com\")\n",
        "\n",
        "url = \"http://bvucoepune.edu.in/\"\n",
        "\n",
        "# replace your path  ( should be of form : \"/path-name\")\n",
        "# incase you are trying to access the homepage  leave  the path blank \"\"\n",
        "\n",
        "path = \"\"\n",
        "\n",
        "# making  requests to load the url\n",
        "\n",
        "loader = requests.get(url + path)\n",
        "\n",
        "# now  create the object of the beautifulscope \n",
        "\n",
        "obj = bs(loader.content)\n",
        "\n",
        "# performing some  operations on  the object and filtering out the images\n",
        "\n",
        "images = obj.find_all(\"img\")\n",
        "\n",
        "for image in  images:\n",
        "  print(image.get(\"src\"))\n",
        "    \n",
        "\n"
      ],
      "metadata": {
        "id": "-PkuGeVuxIfR",
        "colab": {
          "base_uri": "https://localhost:8080/"
        },
        "outputId": "0b57fb98-b26d-40e7-d267-3f6e22335a23"
      },
      "execution_count": 41,
      "outputs": [
        {
          "output_type": "stream",
          "name": "stdout",
          "text": [
            "https://www.facebook.com/tr?id=1132220673935431&ev=PageView&noscript=1\n",
            "http://bvucoepune.edu.in/wp-content/plugins/nd-shortcodes/addons/customizer/header/header-4/img/icon-close-white.svg\n",
            "http://bvucoepune.edu.in/wp-content/plugins/ultimate-social-media-icons/images/icons_theme/flat/flat_facebook.png\n",
            "http://bvucoepune.edu.in/wp-content/plugins/ultimate-social-media-icons/images/icons_theme/flat/flat_twitter.png\n",
            "http://bvucoepune.edu.in/wp-content/plugins/ultimate-social-media-icons/images/icons_theme/flat/flat_youtube.png\n",
            "http://bvucoepune.edu.in/wp-content/plugins/ultimate-social-media-icons/images/icons_theme/flat/flat_instagram.png\n",
            "http://bvucoepune.edu.in/wp-content/uploads/2018/05/logo.png\n",
            "http://bvucoepune.edu.in/wp-content/uploads/2018/05/search.png\n",
            "http://bvucoepune.edu.in/wp-content/uploads/2018/05/logo.png\n",
            "http://bvucoepune.edu.in/wp-content/plugins/nd-shortcodes/addons/customizer/header/header-4/img/icon-menu.svg\n",
            "http://bvucoepune.edu.in/wp-content/uploads/2018/05/Home-Banners_1.jpg\n",
            "http://bvucoepune.edu.in/wp-content/uploads/2018/05/Home-Banners_2.jpg\n",
            "http://bvucoepune.edu.in/wp-content/uploads/2018/05/Home-Banners_4.jpg\n",
            "http://bvucoepune.edu.in/wp-content/uploads/2018/05/1-1.jpg\n",
            "http://bvucoepune.edu.in/wp-content/uploads/2018/12/RANKINGACCREDITATION.jpg\n",
            "http://bvucoepune.edu.in/wp-content/uploads/2021/10/RANKINGACCREDITATION.jpg\n",
            "http://bvucoepune.edu.in/wp-content/plugins/nd-shortcodes/shortcodes/custom/post-grid/layout/icons/icon-link-white.svg\n",
            "http://0.gravatar.com/avatar/ff97b6f6b56da47609bd752a49b59676?s=96&d=mm&r=g\n",
            "http://bvucoepune.edu.in/wp-content/plugins/nd-shortcodes/shortcodes/custom/post-grid/layout/icons/icon-comment-grey.svg\n",
            "http://bvucoepune.edu.in/wp-content/plugins/nd-shortcodes/shortcodes/custom/post-grid/layout/icons/icon-link-white.svg\n",
            "http://bvucoepune.edu.in/wp-content/plugins/nd-shortcodes/shortcodes/custom/post-grid/layout/icons/icon-link-white.svg\n",
            "http://0.gravatar.com/avatar/ff97b6f6b56da47609bd752a49b59676?s=96&d=mm&r=g\n",
            "http://bvucoepune.edu.in/wp-content/plugins/nd-shortcodes/shortcodes/custom/post-grid/layout/icons/icon-comment-grey.svg\n",
            "http://0.gravatar.com/avatar/ff97b6f6b56da47609bd752a49b59676?s=96&d=mm&r=g\n",
            "http://bvucoepune.edu.in/wp-content/plugins/nd-shortcodes/shortcodes/custom/post-grid/layout/icons/icon-comment-grey.svg\n",
            "http://0.gravatar.com/avatar/ff97b6f6b56da47609bd752a49b59676?s=96&d=mm&r=g\n",
            "http://bvucoepune.edu.in/wp-content/plugins/nd-shortcodes/shortcodes/custom/post-grid/layout/icons/icon-comment-grey.svg\n",
            "http://bvucoepune.edu.in/wp-content/uploads/2018/07/result-07-1504764745.jpg\n",
            "http://0.gravatar.com/avatar/ff97b6f6b56da47609bd752a49b59676?s=96&d=mm&r=g\n",
            "http://bvucoepune.edu.in/wp-content/plugins/nd-shortcodes/shortcodes/custom/post-grid/layout/icons/icon-comment-grey.svg\n",
            "http://bvucoepune.edu.in/wp-content/plugins/ultimate-social-media-icons/images/icons_theme/flat/flat_facebook.png\n",
            "http://bvucoepune.edu.in/wp-content/plugins/ultimate-social-media-icons/images/icons_theme/flat/flat_twitter.png\n",
            "http://bvucoepune.edu.in/wp-content/plugins/ultimate-social-media-icons/images/icons_theme/flat/flat_youtube.png\n",
            "http://bvucoepune.edu.in/wp-content/plugins/ultimate-social-media-icons/images/icons_theme/flat/flat_instagram.png\n"
          ]
        }
      ]
    }
  ]
}